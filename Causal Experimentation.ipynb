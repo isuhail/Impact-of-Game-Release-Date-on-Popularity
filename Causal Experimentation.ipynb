{
 "cells": [
  {
   "cell_type": "code",
   "execution_count": 1,
   "metadata": {},
   "outputs": [
    {
     "name": "stderr",
     "output_type": "stream",
     "text": [
      "\n",
      "Attaching package: 'dplyr'\n",
      "\n",
      "The following objects are masked from 'package:stats':\n",
      "\n",
      "    filter, lag\n",
      "\n",
      "The following objects are masked from 'package:base':\n",
      "\n",
      "    intersect, setdiff, setequal, union\n",
      "\n",
      "Warning message:\n",
      "\"package 'ggplot2' was built under R version 3.6.2\"Warning message:\n",
      "\"package 'MatchIt' was built under R version 3.6.2\"\n",
      "Attaching package: 'plm'\n",
      "\n",
      "The following objects are masked from 'package:dplyr':\n",
      "\n",
      "    between, lag, lead\n",
      "\n"
     ]
    }
   ],
   "source": [
    "# load required libraries\n",
    "library(dplyr)\n",
    "library(ggplot2)\n",
    "library(MatchIt)\n",
    "library(stringr)\n",
    "library(stringi)\n",
    "library(plm)"
   ]
  },
  {
   "cell_type": "code",
   "execution_count": 2,
   "metadata": {},
   "outputs": [],
   "source": [
    "setwd(\"C:/Users/HP PC/Desktop/Classes/Spring/Causal Inference/Project\")\n",
    "data = read.csv('steam.csv', header = T, sep = \",\", stringsAsFactors = F)"
   ]
  },
  {
   "cell_type": "markdown",
   "metadata": {},
   "source": [
    "**Hypothesis:** Games being released between June to August are more successful <br>\n",
    "**Success Criteria:** Games are sold more <br>\n",
    "**Treatment Variable:** Month of release <br>"
   ]
  },
  {
   "cell_type": "code",
   "execution_count": 33,
   "metadata": {},
   "outputs": [],
   "source": [
    "## Data exploration and processing ##\n",
    "## (considering the top three publishers assuming they would have a strategy of launching games that our management wants to understand)\n",
    "data_filtered = data %>% \n",
    "  mutate(treat = ifelse(substr(release_date, 4, 5) == \"10\"  |\n",
    "                          substr(release_date, 4, 5) == \"11\" |\n",
    "                          substr(release_date, 4, 5) == \"12\", 1, 0), \n",
    "         avg_owners = (min_owners+max_owners)/2,\n",
    "         action = ifelse(str_detect(tolower(genres), 'action'), 1, 0),\n",
    "         strategy = ifelse(str_detect(tolower(genres), 'strategy'), 1, 0),\n",
    "         adventure = ifelse(str_detect(tolower(genres), 'adventure'), 1, 0),\n",
    "         multi_player = ifelse(str_detect(tolower(categories), 'multi-player'), 1, 0)) %>%\n",
    "  filter(str_detect(publisher, \"Ubisoft\") | \n",
    "         str_detect(publisher, \"Strategy First\") | \n",
    "         str_detect(publisher, \"Big Fish Games\")) %>%\n",
    "  filter(min_owners < 5000000 & max_owners < 10000000) %>%  # removing outliers from data\n",
    "  select(appid,\n",
    "         treat,\n",
    "         avg_owners,\n",
    "         action,\n",
    "         strategy,\n",
    "         adventure,\n",
    "         multi_player,\n",
    "         achievements, \n",
    "         positive_ratings, \n",
    "         negative_ratings, \n",
    "         average_playtime,\n",
    "         median_playtime,\n",
    "         avg_owners,\n",
    "         price) "
   ]
  },
  {
   "cell_type": "code",
   "execution_count": 34,
   "metadata": {},
   "outputs": [
    {
     "name": "stderr",
     "output_type": "stream",
     "text": [
      "Selecting by price\n"
     ]
    },
    {
     "data": {
      "text/html": [
       "<table>\n",
       "<thead><tr><th scope=col>appid</th><th scope=col>treat</th><th scope=col>avg_owners</th><th scope=col>action</th><th scope=col>strategy</th><th scope=col>adventure</th><th scope=col>multi_player</th><th scope=col>achievements</th><th scope=col>positive_ratings</th><th scope=col>negative_ratings</th><th scope=col>average_playtime</th><th scope=col>median_playtime</th><th scope=col>price</th></tr></thead>\n",
       "<tbody>\n",
       "\t<tr><td>447040 </td><td>1      </td><td> 750000</td><td>1      </td><td>0      </td><td>1      </td><td>0      </td><td> 0     </td><td>20905  </td><td> 5366  </td><td>1231   </td><td>1342   </td><td>49.99  </td></tr>\n",
       "\t<tr><td>488790 </td><td>1      </td><td> 350000</td><td>0      </td><td>0      </td><td>0      </td><td>0      </td><td>35     </td><td> 4840  </td><td> 2017  </td><td> 932   </td><td> 976   </td><td>49.99  </td></tr>\n",
       "\t<tr><td>552520 </td><td>0      </td><td> 750000</td><td>1      </td><td>0      </td><td>1      </td><td>1      </td><td> 0     </td><td>23373  </td><td>11081  </td><td>1869   </td><td>1694   </td><td>49.99  </td></tr>\n",
       "\t<tr><td>582160 </td><td>1      </td><td>1500000</td><td>1      </td><td>0      </td><td>1      </td><td>0      </td><td>67     </td><td>31644  </td><td> 6007  </td><td>2908   </td><td>3143   </td><td>49.99  </td></tr>\n",
       "\t<tr><td>646910 </td><td>0      </td><td> 350000</td><td>1      </td><td>0      </td><td>0      </td><td>1      </td><td>34     </td><td> 4030  </td><td> 3916  </td><td>2029   </td><td>1685   </td><td>49.99  </td></tr>\n",
       "\t<tr><td>812140 </td><td>1      </td><td>1500000</td><td>1      </td><td>0      </td><td>1      </td><td>0      </td><td>82     </td><td>20771  </td><td> 4528  </td><td>3151   </td><td>3581   </td><td>49.99  </td></tr>\n",
       "</tbody>\n",
       "</table>\n"
      ],
      "text/latex": [
       "\\begin{tabular}{r|lllllllllllll}\n",
       " appid & treat & avg\\_owners & action & strategy & adventure & multi\\_player & achievements & positive\\_ratings & negative\\_ratings & average\\_playtime & median\\_playtime & price\\\\\n",
       "\\hline\n",
       "\t 447040  & 1       &  750000 & 1       & 0       & 1       & 0       &  0      & 20905   &  5366   & 1231    & 1342    & 49.99  \\\\\n",
       "\t 488790  & 1       &  350000 & 0       & 0       & 0       & 0       & 35      &  4840   &  2017   &  932    &  976    & 49.99  \\\\\n",
       "\t 552520  & 0       &  750000 & 1       & 0       & 1       & 1       &  0      & 23373   & 11081   & 1869    & 1694    & 49.99  \\\\\n",
       "\t 582160  & 1       & 1500000 & 1       & 0       & 1       & 0       & 67      & 31644   &  6007   & 2908    & 3143    & 49.99  \\\\\n",
       "\t 646910  & 0       &  350000 & 1       & 0       & 0       & 1       & 34      &  4030   &  3916   & 2029    & 1685    & 49.99  \\\\\n",
       "\t 812140  & 1       & 1500000 & 1       & 0       & 1       & 0       & 82      & 20771   &  4528   & 3151    & 3581    & 49.99  \\\\\n",
       "\\end{tabular}\n"
      ],
      "text/markdown": [
       "\n",
       "| appid | treat | avg_owners | action | strategy | adventure | multi_player | achievements | positive_ratings | negative_ratings | average_playtime | median_playtime | price |\n",
       "|---|---|---|---|---|---|---|---|---|---|---|---|---|\n",
       "| 447040  | 1       |  750000 | 1       | 0       | 1       | 0       |  0      | 20905   |  5366   | 1231    | 1342    | 49.99   |\n",
       "| 488790  | 1       |  350000 | 0       | 0       | 0       | 0       | 35      |  4840   |  2017   |  932    |  976    | 49.99   |\n",
       "| 552520  | 0       |  750000 | 1       | 0       | 1       | 1       |  0      | 23373   | 11081   | 1869    | 1694    | 49.99   |\n",
       "| 582160  | 1       | 1500000 | 1       | 0       | 1       | 0       | 67      | 31644   |  6007   | 2908    | 3143    | 49.99   |\n",
       "| 646910  | 0       |  350000 | 1       | 0       | 0       | 1       | 34      |  4030   |  3916   | 2029    | 1685    | 49.99   |\n",
       "| 812140  | 1       | 1500000 | 1       | 0       | 1       | 0       | 82      | 20771   |  4528   | 3151    | 3581    | 49.99   |\n",
       "\n"
      ],
      "text/plain": [
       "  appid  treat avg_owners action strategy adventure multi_player achievements\n",
       "1 447040 1      750000    1      0        1         0             0          \n",
       "2 488790 1      350000    0      0        0         0            35          \n",
       "3 552520 0      750000    1      0        1         1             0          \n",
       "4 582160 1     1500000    1      0        1         0            67          \n",
       "5 646910 0      350000    1      0        0         1            34          \n",
       "6 812140 1     1500000    1      0        1         0            82          \n",
       "  positive_ratings negative_ratings average_playtime median_playtime price\n",
       "1 20905             5366            1231             1342            49.99\n",
       "2  4840             2017             932              976            49.99\n",
       "3 23373            11081            1869             1694            49.99\n",
       "4 31644             6007            2908             3143            49.99\n",
       "5  4030             3916            2029             1685            49.99\n",
       "6 20771             4528            3151             3581            49.99"
      ]
     },
     "metadata": {},
     "output_type": "display_data"
    }
   ],
   "source": [
    "top_n(data_filtered, 5)"
   ]
  },
  {
   "cell_type": "code",
   "execution_count": 35,
   "metadata": {},
   "outputs": [
    {
     "name": "stderr",
     "output_type": "stream",
     "text": [
      "`stat_bin()` using `bins = 30`. Pick better value with `binwidth`.\n"
     ]
    },
    {
     "data": {
      "image/png": "[encoded data removed]",
      "text/plain": [
       "plot without title"
      ]
     },
     "metadata": {},
     "output_type": "display_data"
    }
   ],
   "source": [
    "# look at the distribution of number of owners per game before matching\n",
    "options(repr.plot.width=4, repr.plot.height=4)\n",
    "\n",
    "options(repr.plot.width=3, repr.plot.height=3)\n",
    "ggplot(data_filtered, aes(x=avg_owners/1000)) + \n",
    "    geom_histogram() +\n",
    "    ggtitle('Distirbution of sales') +\n",
    "    xlab('Sales (in thousands)') +\n",
    "    ylab('Count')"
   ]
  },
  {
   "cell_type": "code",
   "execution_count": 36,
   "metadata": {},
   "outputs": [
    {
     "data": {
      "text/html": [
       "96"
      ],
      "text/latex": [
       "96"
      ],
      "text/markdown": [
       "96"
      ],
      "text/plain": [
       "[1] 96"
      ]
     },
     "metadata": {},
     "output_type": "display_data"
    },
    {
     "data": {
      "text/html": [
       "372"
      ],
      "text/latex": [
       "372"
      ],
      "text/markdown": [
       "372"
      ],
      "text/plain": [
       "[1] 372"
      ]
     },
     "metadata": {},
     "output_type": "display_data"
    }
   ],
   "source": [
    "# number of treatment and control units in the datset\n",
    "nrow(unique(data_filtered %>% filter(treat == 1) %>% select(appid))) \n",
    "nrow(unique(data_filtered %>% filter(treat == 0) %>% select(appid)))"
   ]
  },
  {
   "cell_type": "markdown",
   "metadata": {},
   "source": [
    "## Propensity Score Matching"
   ]
  },
  {
   "cell_type": "markdown",
   "metadata": {},
   "source": [
    "**Assumption:** <br>\n",
    "1. We observe all the confounds that matter <br>"
   ]
  },
  {
   "cell_type": "code",
   "execution_count": 37,
   "metadata": {},
   "outputs": [
    {
     "data": {
      "text/plain": [
       "\n",
       "\tWelch Two Sample t-test\n",
       "\n",
       "data:  avg_owners by treat\n",
       "t = -2.1141, df = 125.97, p-value = 0.03648\n",
       "alternative hypothesis: true difference in means is not equal to 0\n",
       "95 percent confidence interval:\n",
       " -234104.0   -7727.3\n",
       "sample estimates:\n",
       "mean in group 0 mean in group 1 \n",
       "       121532.3        242447.9 \n"
      ]
     },
     "metadata": {},
     "output_type": "display_data"
    }
   ],
   "source": [
    "# check covariance balancing avg owners before matching\n",
    "t.test(avg_owners ~ treat, data = data_filtered)"
   ]
  },
  {
   "cell_type": "code",
   "execution_count": 49,
   "metadata": {},
   "outputs": [],
   "source": [
    "options(repr.plot.width=3, repr.plot.height=3)\n",
    "price_before <-ggplot(data_filtered, aes(x=as.factor(treat), y=mean(price))) +\n",
    "  geom_bar(stat=\"identity\")+theme_minimal() +\n",
    "  xlab('Treatment') + ylab('Price') + ggtitle('Before Matching')\n",
    "\n",
    "prate_before <-ggplot(data_filtered, aes(x=as.factor(treat), y=positive_ratings/1000)) +\n",
    "  geom_bar(stat=\"identity\")+theme_minimal() +\n",
    "  xlab('Treatment') + ylab('Positive Rating (1000s)') + ggtitle('Before Matching')\n",
    "\n",
    "nrate_before <-ggplot(data_filtered, aes(x=as.factor(treat), y=negative_ratings/ 1000)) +\n",
    "  geom_bar(stat=\"identity\")+theme_minimal() +\n",
    "  xlab('Treatment') + ylab('Negative Rating (1000s)') + ggtitle('Before Matching')\n",
    "\n",
    "achievements_before <-ggplot(data_filtered, aes(x=as.factor(treat), y=achievements)) +\n",
    "  geom_bar(stat=\"identity\")+theme_minimal() +\n",
    "  xlab('Treatment') + ylab('Achievements') + ggtitle('Before Matching')\n",
    "\n",
    "average_playtime_before <-ggplot(data_filtered, aes(x=as.factor(treat), y=average_playtime)) +\n",
    "  geom_bar(stat=\"identity\")+theme_minimal() +\n",
    "  xlab('Treatment') + ylab('average_playtime') + ggtitle('Before Matching')\n",
    "\n",
    "average_owners_before <-ggplot(data_filtered, aes(x=as.factor(treat), y=avg_owners/1000)) +\n",
    "  geom_bar(stat=\"identity\")+theme_minimal() +\n",
    "  xlab('Treatment') + ylab('average owners (1000s)') + ggtitle('Before Matching')"
   ]
  },
  {
   "cell_type": "code",
   "execution_count": 39,
   "metadata": {},
   "outputs": [
    {
     "data": {
      "text/plain": [
       "\n",
       "     Two-sample t test power calculation \n",
       "\n",
       "              n = 138.0715\n",
       "          delta = 0.3\n",
       "             sd = 1\n",
       "      sig.level = 0.1\n",
       "          power = 0.8\n",
       "    alternative = two.sided\n",
       "\n",
       "NOTE: n is number in *each* group\n"
      ]
     },
     "metadata": {},
     "output_type": "display_data"
    },
    {
     "data": {
      "text/plain": [
       "\n",
       "     Two-sample t test power calculation \n",
       "\n",
       "              n = 85\n",
       "          delta = 0.382954\n",
       "             sd = 1\n",
       "      sig.level = 0.1\n",
       "          power = 0.8\n",
       "    alternative = two.sided\n",
       "\n",
       "NOTE: n is number in *each* group\n"
      ]
     },
     "metadata": {},
     "output_type": "display_data"
    }
   ],
   "source": [
    "# Calculate statistical power\n",
    "## Management wants to know with at least 90% confidence if launching a game between October and Decmeber increase sales by 20%.\n",
    "power.t.test(n=NULL,type=c(\"two.sample\"),power=0.8,sig.level=0.1,delta=0.3)\n",
    "\n",
    "power.t.test(n=85,type=c(\"two.sample\"),power=0.8,sig.level=0.1,delta=NULL)"
   ]
  },
  {
   "cell_type": "markdown",
   "metadata": {},
   "source": [
    "Here we are assuming that month of release only depends on the price. However, that may not be the case. It could depend on a lot of other factors as well like the features of the game and publisher "
   ]
  },
  {
   "cell_type": "code",
   "execution_count": 40,
   "metadata": {},
   "outputs": [
    {
     "data": {
      "text/plain": [
       "\n",
       "Call:\n",
       "glm(formula = treat ~ price + as.factor(multi_player) + positive_ratings + \n",
       "    negative_ratings + achievements + average_playtime, family = \"binomial\", \n",
       "    data = data_filtered)\n",
       "\n",
       "Deviance Residuals: \n",
       "    Min       1Q   Median       3Q      Max  \n",
       "-1.8665  -0.6413  -0.6215  -0.6105   1.8932  \n",
       "\n",
       "Coefficients:\n",
       "                           Estimate Std. Error z value Pr(>|z|)    \n",
       "(Intercept)              -1.635e+00  1.804e-01  -9.062   <2e-16 ***\n",
       "price                     1.265e-02  1.590e-02   0.796   0.4263    \n",
       "as.factor(multi_player)1  1.269e-01  3.243e-01   0.391   0.6956    \n",
       "positive_ratings          5.795e-05  3.733e-05   1.552   0.1205    \n",
       "negative_ratings         -1.156e-04  1.013e-04  -1.141   0.2537    \n",
       "achievements              1.578e-02  8.632e-03   1.828   0.0675 .  \n",
       "average_playtime          8.745e-05  1.419e-04   0.616   0.5377    \n",
       "---\n",
       "Signif. codes:  0 '***' 0.001 '**' 0.01 '*' 0.05 '.' 0.1 ' ' 1\n",
       "\n",
       "(Dispersion parameter for binomial family taken to be 1)\n",
       "\n",
       "    Null deviance: 474.95  on 467  degrees of freedom\n",
       "Residual deviance: 459.64  on 461  degrees of freedom\n",
       "AIC: 473.64\n",
       "\n",
       "Number of Fisher Scoring iterations: 4\n"
      ]
     },
     "metadata": {},
     "output_type": "display_data"
    },
    {
     "data": {
      "image/png": "[encoded data removed]",
      "text/plain": [
       "plot without title"
      ]
     },
     "metadata": {},
     "output_type": "display_data"
    }
   ],
   "source": [
    "# Look at the propensity score distribution before matching\n",
    "ps_model = glm(treat ~ price + \n",
    "               as.factor(multi_player) +\n",
    "               positive_ratings +\n",
    "               negative_ratings +\n",
    "               achievements +\n",
    "               average_playtime, data = data_filtered, family = \"binomial\")\n",
    "summary(ps_model)\n",
    "data_filtered$PS = ps_model$fitted.values\n",
    "\n",
    "options(repr.plot.width=4, repr.plot.height=4)\n",
    "ggplot(data_filtered, aes(x=PS, color = factor(treat))) +\n",
    "  geom_density() + xlim(0, 1) + ylim(0, 45) "
   ]
  },
  {
   "cell_type": "code",
   "execution_count": 41,
   "metadata": {
    "scrolled": true
   },
   "outputs": [
    {
     "data": {
      "text/plain": [
       "\n",
       "Call:\n",
       "matchit(formula = treat ~ price + positive_ratings + negative_ratings + \n",
       "    achievements + average_playtime, data = data_filtered, method = \"nearest\", \n",
       "    distance = \"logit\", caliper = 0.1, replace = F, ratio = 1)\n",
       "\n",
       "Summary of balance for all data:\n",
       "                 Means Treated Means Control SD Control Mean Diff eQQ Med\n",
       "distance                0.2374        0.1968     0.0536    0.0405  0.0038\n",
       "price                  11.6734        8.9508     7.6109    2.7226  0.4500\n",
       "positive_ratings     2582.0729      998.9543  4448.1105 1583.1186  3.0000\n",
       "negative_ratings      644.0938      355.0511  2096.4954  289.0427  1.0000\n",
       "achievements            7.8438        2.6747     9.2395    5.1690  0.0000\n",
       "average_playtime      398.0729      172.3414   720.6430  225.7315  0.0000\n",
       "                  eQQ Mean    eQQ Max\n",
       "distance            0.0372     0.4383\n",
       "price               2.6098    16.0000\n",
       "positive_ratings 1448.5938 16098.0000\n",
       "negative_ratings  587.6458 18566.0000\n",
       "achievements        4.8646   128.0000\n",
       "average_playtime  215.0312  2886.0000\n",
       "\n",
       "\n",
       "Summary of balance for matched data:\n",
       "                 Means Treated Means Control SD Control Mean Diff eQQ Med\n",
       "distance                0.2018        0.2010     0.0758    0.0007  0.0005\n",
       "price                   9.3924        8.8729     6.9793    0.5195  0.0000\n",
       "positive_ratings     1193.5814     1021.8488  4319.0915  171.7326 12.0000\n",
       "negative_ratings      395.3605      170.8721   420.4524  224.4884  4.5000\n",
       "achievements            3.4419        3.0233     9.3821    0.4186  0.0000\n",
       "average_playtime      206.5581      139.2326   475.7134   67.3256  0.0000\n",
       "                 eQQ Mean   eQQ Max\n",
       "distance           0.0016    0.0072\n",
       "price              0.8814   12.0000\n",
       "positive_ratings 391.5465 4252.0000\n",
       "negative_ratings 259.7209 4715.0000\n",
       "achievements       1.0000   17.0000\n",
       "average_playtime  72.9302 2886.0000\n",
       "\n",
       "Percent Balance Improvement:\n",
       "                 Mean Diff.   eQQ Med eQQ Mean eQQ Max\n",
       "distance            98.2072   87.0932  95.6282 98.3538\n",
       "price               80.9177  100.0000  66.2274 25.0000\n",
       "positive_ratings    89.1523 -300.0000  72.9706 73.5868\n",
       "negative_ratings    22.3338 -350.0000  55.8032 74.6041\n",
       "achievements        91.9017    0.0000  79.4433 86.7188\n",
       "average_playtime    70.1745    0.0000  66.0839  0.0000\n",
       "\n",
       "Sample sizes:\n",
       "          Control Treated\n",
       "All           372      96\n",
       "Matched        86      86\n",
       "Unmatched     286      10\n",
       "Discarded       0       0\n"
      ]
     },
     "metadata": {},
     "output_type": "display_data"
    }
   ],
   "source": [
    "# perform matching\n",
    "# without replacement\n",
    "match_output <- matchit(treat ~ price + positive_ratings + negative_ratings + achievements + average_playtime, data = data_filtered, \n",
    "                        method = \"nearest\", distance = \"logit\", caliper = 0.1, replace = F, ratio = 1)\n",
    "\n",
    "summary(match_output)\n",
    "data_match = match.data(match_output)"
   ]
  },
  {
   "cell_type": "code",
   "execution_count": 42,
   "metadata": {
    "scrolled": true
   },
   "outputs": [
    {
     "data": {
      "text/plain": [
       "\n",
       "\tWelch Two Sample t-test\n",
       "\n",
       "data:  avg_owners by treat\n",
       "t = -0.13193, df = 158.91, p-value = 0.8952\n",
       "alternative hypothesis: true difference in means is not equal to 0\n",
       "95 percent confidence interval:\n",
       " -122562.3  107213.5\n",
       "sample estimates:\n",
       "mean in group 0 mean in group 1 \n",
       "       140174.4        147848.8 \n"
      ]
     },
     "metadata": {},
     "output_type": "display_data"
    }
   ],
   "source": [
    "# Covariance balance\n",
    "t.test(avg_owners ~ treat, data = data_match)"
   ]
  },
  {
   "cell_type": "code",
   "execution_count": 43,
   "metadata": {},
   "outputs": [
    {
     "data": {
      "image/png": "[encoded data removed]",
      "text/plain": [
       "plot without title"
      ]
     },
     "metadata": {},
     "output_type": "display_data"
    }
   ],
   "source": [
    "ggplot(data_match, aes(x=PS, color = factor(treat))) +\n",
    "  geom_density() + xlim(0, 1) + ylim(0, 45) "
   ]
  },
  {
   "cell_type": "code",
   "execution_count": 44,
   "metadata": {},
   "outputs": [],
   "source": [
    "# with replacement\n",
    "match_output <- matchit(treat ~ price + action + adventure + strategy + multi_player\n",
    "                        , data = data_filtered, \n",
    "                        method = \"nearest\", distance = \"logit\", caliper = 0.1, replace = T, ratio = 1)"
   ]
  },
  {
   "cell_type": "code",
   "execution_count": 51,
   "metadata": {},
   "outputs": [],
   "source": [
    "options(repr.plot.width=3, repr.plot.height=3)\n",
    "price_after <-ggplot(data_match, aes(x=as.factor(treat), y=mean(price))) +\n",
    "  geom_bar(stat=\"identity\")+theme_minimal() +\n",
    "  xlab('Treatment') + ylab('Price') + ggtitle('After Matching')\n",
    "\n",
    "prate_after <-ggplot(data_match, aes(x=as.factor(treat), y=positive_ratings/ 1000)) +\n",
    "  geom_bar(stat=\"identity\")+theme_minimal() +\n",
    "  xlab('Treatment') + ylab('Positive Rating (1000s)') + ggtitle('After Matching')\n",
    "\n",
    "nrate_after <-ggplot(data_match, aes(x=as.factor(treat), y=negative_ratings/ 1000)) +\n",
    "  geom_bar(stat=\"identity\")+theme_minimal() +\n",
    "  xlab('Treatment') + ylab('Negative Rating (1000s)') + ggtitle('After Matching')\n",
    "\n",
    "achievements_after <-ggplot(data_match, aes(x=as.factor(treat), y=achievements)) +\n",
    "  geom_bar(stat=\"identity\")+theme_minimal() +\n",
    "  xlab('Treatment') + ylab('Achievements') + ggtitle('After Matching')\n",
    "\n",
    "average_playtime_after <-ggplot(data_match, aes(x=as.factor(treat), y=average_playtime)) +\n",
    "  geom_bar(stat=\"identity\")+theme_minimal() +\n",
    "  xlab('Treatment') + ylab('average_playtime') + ggtitle('After Matching')\n",
    "\n",
    "average_owners_after <-ggplot(data_match, aes(x=as.factor(treat), y=avg_owners/1000)) +\n",
    "  geom_bar(stat=\"identity\")+theme_minimal() +\n",
    "  xlab('Treatment') + ylab('average owners (1000s)') + ggtitle('After Matching')"
   ]
  },
  {
   "cell_type": "code",
   "execution_count": 16,
   "metadata": {},
   "outputs": [],
   "source": [
    "multiplot <- function(..., plotlist=NULL, file, cols=1, layout=NULL) {\n",
    "  require(grid)\n",
    "\n",
    "  # Make a list from the ... arguments and plotlist\n",
    "  plots <- c(list(...), plotlist)\n",
    "\n",
    "  numPlots = length(plots)\n",
    "\n",
    "  # If layout is NULL, then use 'cols' to determine layout\n",
    "  if (is.null(layout)) {\n",
    "    # Make the panel\n",
    "    # ncol: Number of columns of plots\n",
    "    # nrow: Number of rows needed, calculated from # of cols\n",
    "    layout <- matrix(seq(1, cols * ceiling(numPlots/cols)),\n",
    "                    ncol = cols, nrow = ceiling(numPlots/cols))\n",
    "  }\n",
    "\n",
    " if (numPlots==1) {\n",
    "    print(plots[[1]])\n",
    "\n",
    "  } else {\n",
    "    # Set up the page\n",
    "    grid.newpage()\n",
    "    pushViewport(viewport(layout = grid.layout(nrow(layout), ncol(layout))))\n",
    "\n",
    "    # Make each plot, in the correct location\n",
    "    for (i in 1:numPlots) {\n",
    "      # Get the i,j matrix positions of the regions that contain this subplot\n",
    "      matchidx <- as.data.frame(which(layout == i, arr.ind = TRUE))\n",
    "\n",
    "      print(plots[[i]], vp = viewport(layout.pos.row = matchidx$row,\n",
    "                                      layout.pos.col = matchidx$col))\n",
    "    }\n",
    "  }\n",
    "}"
   ]
  },
  {
   "cell_type": "code",
   "execution_count": 52,
   "metadata": {},
   "outputs": [
    {
     "data": {
      "image/png": "[encoded data removed]",
      "text/plain": [
       "plot without title"
      ]
     },
     "metadata": {},
     "output_type": "display_data"
    },
    {
     "data": {
      "image/png": "[encoded data removed]",
      "text/plain": [
       "plot without title"
      ]
     },
     "metadata": {},
     "output_type": "display_data"
    },
    {
     "data": {
      "image/png": "[encoded data removed]",
      "text/plain": [
       "plot without title"
      ]
     },
     "metadata": {},
     "output_type": "display_data"
    },
    {
     "data": {
      "image/png": "[encoded data removed]",
      "text/plain": [
       "plot without title"
      ]
     },
     "metadata": {},
     "output_type": "display_data"
    },
    {
     "data": {
      "image/png": "[encoded data removed]",
      "text/plain": [
       "plot without title"
      ]
     },
     "metadata": {},
     "output_type": "display_data"
    },
    {
     "data": {
      "image/png": "[encoded data removed]",
      "text/plain": [
       "plot without title"
      ]
     },
     "metadata": {},
     "output_type": "display_data"
    }
   ],
   "source": [
    "options(repr.plot.width=5, repr.plot.height=3)\n",
    "multiplot(price_before, price_after, cols = 2)\n",
    "multiplot(prate_before, prate_after, cols = 2)\n",
    "multiplot(nrate_before, nrate_after, cols = 2)\n",
    "multiplot(achievements_before, achievements_after, cols = 2)\n",
    "multiplot(average_playtime_before, average_playtime_after, cols = 2)\n",
    "multiplot(average_owners_before, average_owners_after, cols = 2)"
   ]
  },
  {
   "cell_type": "code",
   "execution_count": 18,
   "metadata": {},
   "outputs": [
    {
     "data": {
      "image/png": "[encoded data removed]",
      "text/plain": [
       "plot without title"
      ]
     },
     "metadata": {},
     "output_type": "display_data"
    },
    {
     "data": {
      "image/png": "[encoded data removed]",
      "text/plain": [
       "plot without title"
      ]
     },
     "metadata": {},
     "output_type": "display_data"
    }
   ],
   "source": [
    "multiplot(price_before, average_playtime_before, cols = 2)\n",
    "multiplot(prate_before, nrate_before, cols = 2)"
   ]
  },
  {
   "cell_type": "code",
   "execution_count": 19,
   "metadata": {},
   "outputs": [
    {
     "data": {
      "text/plain": [
       "\n",
       "\tWelch Two Sample t-test\n",
       "\n",
       "data:  avg_owners by treat\n",
       "t = -0.18754, df = 158.07, p-value = 0.8515\n",
       "alternative hypothesis: true difference in means is not equal to 0\n",
       "95 percent confidence interval:\n",
       " -126713.4  104736.6\n",
       "sample estimates:\n",
       "mean in group 0 mean in group 1 \n",
       "       136860.5        147848.8 \n"
      ]
     },
     "metadata": {},
     "output_type": "display_data"
    },
    {
     "data": {
      "image/png": "[encoded data removed]",
      "text/plain": [
       "plot without title"
      ]
     },
     "metadata": {},
     "output_type": "display_data"
    }
   ],
   "source": [
    "# Covariance balance\n",
    "t.test(avg_owners ~ treat, data = data_match)\n",
    "ggplot(data_match, aes(x=PS, color = factor(treat))) +\n",
    "  geom_density()"
   ]
  },
  {
   "cell_type": "code",
   "execution_count": 20,
   "metadata": {},
   "outputs": [
    {
     "data": {
      "text/plain": [
       "\n",
       "Call:\n",
       "lm(formula = log(avg_owners + 1) ~ treat, data = data_filtered)\n",
       "\n",
       "Residuals:\n",
       "    Min      1Q  Median      3Q     Max \n",
       "-1.3214 -0.8782 -0.8782  0.4542  4.9796 \n",
       "\n",
       "Coefficients:\n",
       "            Estimate Std. Error t value Pr(>|t|)    \n",
       "(Intercept) 10.08869    0.08026 125.705   <2e-16 ***\n",
       "treat        0.44311    0.17720   2.501   0.0127 *  \n",
       "---\n",
       "Signif. codes:  0 '***' 0.001 '**' 0.01 '*' 0.05 '.' 0.1 ' ' 1\n",
       "\n",
       "Residual standard error: 1.548 on 466 degrees of freedom\n",
       "Multiple R-squared:  0.01324,\tAdjusted R-squared:  0.01112 \n",
       "F-statistic: 6.253 on 1 and 466 DF,  p-value: 0.01274\n"
      ]
     },
     "metadata": {},
     "output_type": "display_data"
    }
   ],
   "source": [
    "# without matching\n",
    "summary(lm(log(avg_owners+1) ~ treat, data = data_filtered))"
   ]
  },
  {
   "cell_type": "code",
   "execution_count": 21,
   "metadata": {
    "scrolled": true
   },
   "outputs": [
    {
     "data": {
      "text/plain": [
       "\n",
       "Call:\n",
       "lm(formula = log(avg_owners + 1) ~ treat, data = data_filtered %>% \n",
       "    filter(appid %in% data_match$appid))\n",
       "\n",
       "Residuals:\n",
       "    Min      1Q  Median      3Q     Max \n",
       "-1.0077 -1.0077 -0.8734  0.3793  4.9844 \n",
       "\n",
       "Coefficients:\n",
       "            Estimate Std. Error t value Pr(>|t|)    \n",
       "(Intercept)  10.0839     0.1702  59.262   <2e-16 ***\n",
       "treat         0.1342     0.2406   0.558    0.578    \n",
       "---\n",
       "Signif. codes:  0 '***' 0.001 '**' 0.01 '*' 0.05 '.' 0.1 ' ' 1\n",
       "\n",
       "Residual standard error: 1.578 on 170 degrees of freedom\n",
       "Multiple R-squared:  0.001827,\tAdjusted R-squared:  -0.004044 \n",
       "F-statistic: 0.3112 on 1 and 170 DF,  p-value: 0.5777\n"
      ]
     },
     "metadata": {},
     "output_type": "display_data"
    }
   ],
   "source": [
    "# with matching\n",
    "summary(lm(log(avg_owners+1) ~ treat, data = data_filtered %>%\n",
    "             filter(appid %in% data_match$appid)))"
   ]
  },
  {
   "cell_type": "markdown",
   "metadata": {},
   "source": [
    "#### Sensitivity Check - remaining\n",
    "Rosenbaum Sensitivity Bound / Test"
   ]
  },
  {
   "cell_type": "markdown",
   "metadata": {},
   "source": [
    "## Fixed Effects"
   ]
  },
  {
   "cell_type": "markdown",
   "metadata": {},
   "source": [
    "We want to look at the effect of average playtime on the success of the game. (to justify the outcome of PSM)"
   ]
  },
  {
   "cell_type": "code",
   "execution_count": 22,
   "metadata": {},
   "outputs": [],
   "source": [
    "## games that were released at least twice\n",
    "games_with_multiple_release = data %>% \n",
    "  mutate(name = tolower(name)) %>%\n",
    "  group_by(name) %>% summarise(occurrence = n()) %>%\n",
    "  filter(occurrence > 1) %>% \n",
    "  select(name)"
   ]
  },
  {
   "cell_type": "code",
   "execution_count": 23,
   "metadata": {},
   "outputs": [],
   "source": [
    "## Data exploration and processing ##\n",
    "data_filtered = data %>% \n",
    "  mutate(avg_owners = (min_owners+max_owners)/2) %>%\n",
    "  filter(tolower(name) %in% games_with_multiple_release$name) %>%\n",
    "  select(appid,\n",
    "         name,\n",
    "         achievements, \n",
    "         positive_ratings, \n",
    "         negative_ratings, \n",
    "         average_playtime,\n",
    "         price,\n",
    "         avg_owners) "
   ]
  },
  {
   "cell_type": "code",
   "execution_count": 24,
   "metadata": {},
   "outputs": [
    {
     "data": {
      "text/html": [
       "<table>\n",
       "<thead><tr><th></th><th scope=col>achievements</th><th scope=col>positive_ratings</th><th scope=col>negative_ratings</th><th scope=col>average_playtime</th><th scope=col>price</th></tr></thead>\n",
       "<tbody>\n",
       "\t<tr><th scope=row>achievements</th><td> 1.0000000000</td><td>-0.0003820091</td><td>-0.007138967 </td><td>-0.03633335  </td><td>-0.07348940  </td></tr>\n",
       "\t<tr><th scope=row>positive_ratings</th><td>-0.0003820091</td><td> 1.0000000000</td><td> 0.418982733 </td><td> 0.26557232  </td><td> 0.25170135  </td></tr>\n",
       "\t<tr><th scope=row>negative_ratings</th><td>-0.0071389668</td><td> 0.4189827326</td><td> 1.000000000 </td><td> 0.13023240  </td><td> 0.09278647  </td></tr>\n",
       "\t<tr><th scope=row>average_playtime</th><td>-0.0363333523</td><td> 0.2655723235</td><td> 0.130232402 </td><td> 1.00000000  </td><td> 0.14570469  </td></tr>\n",
       "\t<tr><th scope=row>price</th><td>-0.0734894046</td><td> 0.2517013512</td><td> 0.092786472 </td><td> 0.14570469  </td><td> 1.00000000  </td></tr>\n",
       "</tbody>\n",
       "</table>\n"
      ],
      "text/latex": [
       "\\begin{tabular}{r|lllll}\n",
       "  & achievements & positive\\_ratings & negative\\_ratings & average\\_playtime & price\\\\\n",
       "\\hline\n",
       "\tachievements &  1.0000000000 & -0.0003820091 & -0.007138967  & -0.03633335   & -0.07348940  \\\\\n",
       "\tpositive\\_ratings & -0.0003820091 &  1.0000000000 &  0.418982733  &  0.26557232   &  0.25170135  \\\\\n",
       "\tnegative\\_ratings & -0.0071389668 &  0.4189827326 &  1.000000000  &  0.13023240   &  0.09278647  \\\\\n",
       "\taverage\\_playtime & -0.0363333523 &  0.2655723235 &  0.130232402  &  1.00000000   &  0.14570469  \\\\\n",
       "\tprice & -0.0734894046 &  0.2517013512 &  0.092786472  &  0.14570469   &  1.00000000  \\\\\n",
       "\\end{tabular}\n"
      ],
      "text/markdown": [
       "\n",
       "| <!--/--> | achievements | positive_ratings | negative_ratings | average_playtime | price |\n",
       "|---|---|---|---|---|---|\n",
       "| achievements |  1.0000000000 | -0.0003820091 | -0.007138967  | -0.03633335   | -0.07348940   |\n",
       "| positive_ratings | -0.0003820091 |  1.0000000000 |  0.418982733  |  0.26557232   |  0.25170135   |\n",
       "| negative_ratings | -0.0071389668 |  0.4189827326 |  1.000000000  |  0.13023240   |  0.09278647   |\n",
       "| average_playtime | -0.0363333523 |  0.2655723235 |  0.130232402  |  1.00000000   |  0.14570469   |\n",
       "| price | -0.0734894046 |  0.2517013512 |  0.092786472  |  0.14570469   |  1.00000000   |\n",
       "\n"
      ],
      "text/plain": [
       "                 achievements  positive_ratings negative_ratings\n",
       "achievements      1.0000000000 -0.0003820091    -0.007138967    \n",
       "positive_ratings -0.0003820091  1.0000000000     0.418982733    \n",
       "negative_ratings -0.0071389668  0.4189827326     1.000000000    \n",
       "average_playtime -0.0363333523  0.2655723235     0.130232402    \n",
       "price            -0.0734894046  0.2517013512     0.092786472    \n",
       "                 average_playtime price      \n",
       "achievements     -0.03633335      -0.07348940\n",
       "positive_ratings  0.26557232       0.25170135\n",
       "negative_ratings  0.13023240       0.09278647\n",
       "average_playtime  1.00000000       0.14570469\n",
       "price             0.14570469       1.00000000"
      ]
     },
     "metadata": {},
     "output_type": "display_data"
    }
   ],
   "source": [
    "# check for correlation btw variables before running regression\n",
    "cor(data_filtered[3:7], method = c(\"pearson\")) # no significant correlation btw any confounds"
   ]
  },
  {
   "cell_type": "code",
   "execution_count": 25,
   "metadata": {},
   "outputs": [
    {
     "data": {
      "text/plain": [
       "\n",
       "Call:\n",
       "lm(formula = avg_owners ~ price + positive_ratings + negative_ratings + \n",
       "    achievements + average_playtime, data = data_filtered)\n",
       "\n",
       "Residuals:\n",
       "    Min      1Q  Median      3Q     Max \n",
       "-119130  -18444  -11641    1883  276949 \n",
       "\n",
       "Coefficients:\n",
       "                  Estimate Std. Error t value Pr(>|t|)    \n",
       "(Intercept)      32067.135   6905.435   4.644 8.89e-06 ***\n",
       "price            -2706.197   1238.147  -2.186   0.0308 *  \n",
       "positive_ratings    35.088      3.032  11.574  < 2e-16 ***\n",
       "negative_ratings     8.306     15.138   0.549   0.5842    \n",
       "achievements       -19.691     34.850  -0.565   0.5731    \n",
       "average_playtime   260.258     49.278   5.281 5.86e-07 ***\n",
       "---\n",
       "Signif. codes:  0 '***' 0.001 '**' 0.01 '*' 0.05 '.' 0.1 ' ' 1\n",
       "\n",
       "Residual standard error: 52100 on 119 degrees of freedom\n",
       "Multiple R-squared:  0.6721,\tAdjusted R-squared:  0.6583 \n",
       "F-statistic: 48.78 on 5 and 119 DF,  p-value: < 2.2e-16\n"
      ]
     },
     "metadata": {},
     "output_type": "display_data"
    }
   ],
   "source": [
    "# naive regression\n",
    "summary(lm(avg_owners ~ price + \n",
    "             positive_ratings + \n",
    "             negative_ratings +\n",
    "             achievements +\n",
    "             average_playtime, data = data_filtered))"
   ]
  },
  {
   "cell_type": "code",
   "execution_count": 26,
   "metadata": {},
   "outputs": [
    {
     "data": {
      "text/plain": [
       "Oneway (individual) effect First-Difference Model\n",
       "\n",
       "Call:\n",
       "plm(formula = avg_owners ~ price + positive_ratings + negative_ratings + \n",
       "    achievements + average_playtime, data = data_filtered, effect = \"individual\", \n",
       "    model = \"fd\", index = \"name\")\n",
       "\n",
       "Unbalanced Panel: n = 83, T = 1-3, N = 125\n",
       "Observations used in estimation: 42\n",
       "\n",
       "Residuals:\n",
       "       Min.     1st Qu.      Median     3rd Qu.        Max. \n",
       "-127320.642  -12674.160      20.525   12655.855  165060.541 \n",
       "\n",
       "Coefficients:\n",
       "                  Estimate Std. Error t-value  Pr(>|t|)    \n",
       "(Intercept)      -2240.948   8738.947 -0.2564 0.7990769    \n",
       "price            -2175.770   2288.544 -0.9507 0.3480847    \n",
       "positive_ratings   153.035     54.700  2.7977 0.0082131 ** \n",
       "negative_ratings   660.740    173.147  3.8161 0.0005138 ***\n",
       "achievements      -516.140    415.887 -1.2411 0.2226105    \n",
       "average_playtime    71.715     69.821  1.0271 0.3112125    \n",
       "---\n",
       "Signif. codes:  0 '***' 0.001 '**' 0.01 '*' 0.05 '.' 0.1 ' ' 1\n",
       "\n",
       "Total Sum of Squares:    3.1951e+11\n",
       "Residual Sum of Squares: 9.6759e+10\n",
       "R-Squared:      0.69716\n",
       "Adj. R-Squared: 0.6551\n",
       "F-statistic: 16.5753 on 5 and 36 DF, p-value: 1.7556e-08"
      ]
     },
     "metadata": {},
     "output_type": "display_data"
    }
   ],
   "source": [
    "# with publisher fixed effects (first differencing)\n",
    "model_within = plm(avg_owners ~ price + \n",
    "                   positive_ratings + \n",
    "                   negative_ratings +\n",
    "                   achievements +\n",
    "                   average_playtime, data = data_filtered, \n",
    "                   effect = \"individual\",  # effect that does not change (over individual, over time)\n",
    "                   index = 'name', \n",
    "                   model = \"fd\")\n",
    "\n",
    "summary(model_within)"
   ]
  },
  {
   "cell_type": "markdown",
   "metadata": {},
   "source": [
    "On removing the fixed effects of publisher and game properties we see that ratings have a much higher impact on sales"
   ]
  },
  {
   "cell_type": "markdown",
   "metadata": {},
   "source": [
    "Limitations: <br>\n",
    "1. Still not taking care of time variant factors <br>\n",
    "2. Assuming that the publisher and game properties remain the same across years which may not be the case <br>"
   ]
  }
 ],
 "metadata": {
  "kernelspec": {
   "display_name": "R",
   "language": "R",
   "name": "ir"
  },
  "language_info": {
   "codemirror_mode": "r",
   "file_extension": ".r",
   "mimetype": "text/x-r-source",
   "name": "R",
   "pygments_lexer": "r",
   "version": "3.6.1"
  }
 },
 "nbformat": 4,
 "nbformat_minor": 2
}
